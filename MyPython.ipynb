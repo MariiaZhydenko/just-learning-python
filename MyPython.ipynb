{
 "cells": [
  {
   "cell_type": "code",
   "execution_count": 1,
   "metadata": {},
   "outputs": [
    {
     "name": "stdout",
     "output_type": "stream",
     "text": [
      "test1\n",
      "test2\n"
     ]
    }
   ],
   "source": [
    "#FUNCTION SCOPE\n",
    "\n",
    "def main():\n",
    "    test = 'test1'\n",
    "    \n",
    "    def subf():\n",
    "        global test\n",
    "        test = 'test2'\n",
    "        \n",
    "    subf()\n",
    "    \n",
    "    print(test)\n",
    "    \n",
    "main()\n",
    "\n",
    "print(test)"
   ]
  },
  {
   "cell_type": "code",
   "execution_count": 2,
   "metadata": {},
   "outputs": [
    {
     "data": {
      "text/plain": [
       "list"
      ]
     },
     "execution_count": 2,
     "metadata": {},
     "output_type": "execute_result"
    }
   ],
   "source": [
    "#LIST CAN CONTAIN DIFFERENT DATA TYPES\n",
    "\n",
    "t = ['a', 1]\n",
    "type(t)"
   ]
  },
  {
   "cell_type": "code",
   "execution_count": 15,
   "metadata": {},
   "outputs": [
    {
     "name": "stdout",
     "output_type": "stream",
     "text": [
      "<generator object iter1 at 0x0294A2A0>\n"
     ]
    }
   ],
   "source": [
    "#YEILD WORKS\n",
    "\n",
    "str = '1234'\n",
    "\n",
    "def iter1(smth):\n",
    "    for s in smth:\n",
    "        print('Before')\n",
    "        yield s\n",
    "        print('after')\n",
    "iter1(str)\n",
    "\n",
    "testg = iter1(str)\n",
    "\n",
    "print(testg)"
   ]
  },
  {
   "cell_type": "code",
   "execution_count": 23,
   "metadata": {},
   "outputs": [
    {
     "data": {
      "text/plain": [
       "[(0, 4), (1, 5), (2, 6), (3, 7)]"
      ]
     },
     "execution_count": 23,
     "metadata": {},
     "output_type": "execute_result"
    }
   ],
   "source": [
    "#HOW ZIP FUNCTION WORKS\n",
    "\n",
    "list1 = [0, 1, 2, 3]\n",
    "\n",
    "list2 = [4, 5, 6, 7]\n",
    "\n",
    "list(zip(list1, list2))\n"
   ]
  },
  {
   "cell_type": "code",
   "execution_count": 29,
   "metadata": {},
   "outputs": [
    {
     "name": "stdout",
     "output_type": "stream",
     "text": [
      "range(0, 5)\n"
     ]
    },
    {
     "data": {
      "text/plain": [
       "function"
      ]
     },
     "execution_count": 29,
     "metadata": {},
     "output_type": "execute_result"
    }
   ],
   "source": [
    "#THE FUNCTION AND RANGE DATA TYPES EXIST\n",
    "\n",
    "t1 = range(5)\n",
    "print(t1)\n",
    "\n",
    "def tset():\n",
    "    pass\n",
    "type(tset)"
   ]
  },
  {
   "cell_type": "code",
   "execution_count": 1,
   "metadata": {},
   "outputs": [
    {
     "name": "stdout",
     "output_type": "stream",
     "text": [
      "30\n"
     ]
    }
   ],
   "source": [
    "#ISINSTANCE FUNCTION\n",
    "\n",
    "def add_numbers(a, b):\n",
    "    if not (isinstance(a, int) and isinstance(b, int)):\n",
    "         raise TypeError(\"Inputs must be integers\")\n",
    "    return a + b\n",
    "\n",
    "print(add_numbers(10, 20))"
   ]
  },
  {
   "cell_type": "code",
   "execution_count": 3,
   "metadata": {},
   "outputs": [
    {
     "name": "stdout",
     "output_type": "stream",
     "text": [
      "None\n",
      "6 ,  3\n"
     ]
    }
   ],
   "source": [
    "#HOW PYTHON MEMORY WORKS\n",
    "\n",
    "def swap(val1, val2):\n",
    "    tmp = val1\n",
    "    val1 = val2\n",
    "    val2 = tmp\n",
    "\n",
    "x = 6\n",
    "y = 3\n",
    "swap(x, y)\n",
    "print (swap(x, y))\n",
    "print(x,\", \",y)"
   ]
  },
  {
   "cell_type": "code",
   "execution_count": 10,
   "metadata": {},
   "outputs": [
    {
     "data": {
      "text/plain": [
       "{65: 'A',\n",
       " 66: 'B',\n",
       " 67: 'C',\n",
       " 68: 'D',\n",
       " 69: 'E',\n",
       " 70: 'F',\n",
       " 71: 'G',\n",
       " 72: 'H',\n",
       " 73: 'I',\n",
       " 74: 'J',\n",
       " 75: 'K',\n",
       " 76: 'L',\n",
       " 77: 'M',\n",
       " 78: 'N',\n",
       " 79: 'O',\n",
       " 80: 'P',\n",
       " 81: 'Q',\n",
       " 82: 'R',\n",
       " 83: 'S',\n",
       " 84: 'T',\n",
       " 85: 'U',\n",
       " 86: 'V',\n",
       " 87: 'W',\n",
       " 88: 'X',\n",
       " 89: 'Y',\n",
       " 90: 'Z'}"
      ]
     },
     "execution_count": 10,
     "metadata": {},
     "output_type": "execute_result"
    }
   ],
   "source": [
    "#HOW TO CREATE A DICTIONARY IN A SIMPLE WAY\n",
    "\n",
    "dict = {i : chr(i) for i in range(65, 91)}\n",
    "dict"
   ]
  },
  {
   "cell_type": "code",
   "execution_count": 13,
   "metadata": {},
   "outputs": [],
   "source": [
    "#HOW PYTHON MEMORY WORKS\n",
    "\n",
    "x = {1 : 'bla',\n",
    "    2: 'bla1'}\n",
    "\n",
    "y = x\n",
    "\n",
    "y = {1 : 'blabla',\n",
    "    2: 'bla1'}\n",
    "\n",
    "print (x)"
   ]
  },
  {
   "cell_type": "code",
   "execution_count": 17,
   "metadata": {},
   "outputs": [],
   "source": [
    "#REVERSE METHOD CHANGE THE ORIGINAL STRING\n",
    "\n",
    "list = [1, 2, 3]\n",
    "list.reverse()\n",
    "list"
   ]
  },
  {
   "cell_type": "code",
   "execution_count": 21,
   "metadata": {},
   "outputs": [
    {
     "ename": "TypeError",
     "evalue": "'type' object does not support item deletion",
     "output_type": "error",
     "traceback": [
      "\u001b[1;31m---------------------------------------------------------------------------\u001b[0m",
      "\u001b[1;31mTypeError\u001b[0m                                 Traceback (most recent call last)",
      "\u001b[1;32m<ipython-input-21-8c2f598c5646>\u001b[0m in \u001b[0;36m<module>\u001b[1;34m()\u001b[0m\n\u001b[0;32m      1\u001b[0m \u001b[0mstr1\u001b[0m \u001b[1;33m=\u001b[0m \u001b[1;34m'smth111'\u001b[0m\u001b[1;33m\u001b[0m\u001b[0m\n\u001b[1;32m----> 2\u001b[1;33m \u001b[1;32mdel\u001b[0m\u001b[1;33m(\u001b[0m\u001b[0mstr\u001b[0m\u001b[1;33m[\u001b[0m\u001b[1;36m2\u001b[0m\u001b[1;33m]\u001b[0m\u001b[1;33m)\u001b[0m\u001b[1;33m\u001b[0m\u001b[0m\n\u001b[0m\u001b[0;32m      3\u001b[0m \u001b[0msrt1\u001b[0m\u001b[1;33m\u001b[0m\u001b[0m\n",
      "\u001b[1;31mTypeError\u001b[0m: 'type' object does not support item deletion"
     ]
    }
   ],
   "source": [
    "#STRINGS ARE IMMUTABLE\n",
    "\n",
    "str1 = 'smth111'\n",
    "del(str[2])\n",
    "srt1 "
   ]
  },
  {
   "cell_type": "code",
   "execution_count": null,
   "metadata": {},
   "outputs": [],
   "source": [
    "#HOW TO KNOW PYTHON VERSION\n",
    "\n",
    "import sys\n",
    "print (sys.version)"
   ]
  },
  {
   "cell_type": "code",
   "execution_count": null,
   "metadata": {},
   "outputs": [],
   "source": [
    "#HOW TO KNOW WHAT TIME IS IT\n",
    "\n",
    "import datetime\n",
    "print(datetime.datetime.now())"
   ]
  },
  {
   "cell_type": "code",
   "execution_count": 22,
   "metadata": {},
   "outputs": [
    {
     "name": "stdout",
     "output_type": "stream",
     "text": [
      "   September 1998\n",
      "Mo Tu We Th Fr Sa Su\n",
      "    1  2  3  4  5  6\n",
      " 7  8  9 10 11 12 13\n",
      "14 15 16 17 18 19 20\n",
      "21 22 23 24 25 26 27\n",
      "28 29 30\n",
      "\n"
     ]
    }
   ],
   "source": [
    "#HOW TO SHOW THE CALENDAR\n",
    "\n",
    "import calendar\n",
    "print (calendar.month(1998, 9))"
   ]
  },
  {
   "cell_type": "code",
   "execution_count": 24,
   "metadata": {},
   "outputs": [
    {
     "name": "stdout",
     "output_type": "stream",
     "text": [
      "30\n"
     ]
    }
   ],
   "source": [
    "#HOW TO FIND THE DIFFERENCE BETWEEN DAYS\n",
    "\n",
    "from datetime import date\n",
    "date1 = date(2016, 6, 2)\n",
    "date2 = date(2016, 7, 2)\n",
    "dif = date2 - date1\n",
    "print(dif.days)"
   ]
  },
  {
   "cell_type": "code",
   "execution_count": 26,
   "metadata": {},
   "outputs": [
    {
     "data": {
      "text/plain": [
       "120"
      ]
     },
     "execution_count": 26,
     "metadata": {},
     "output_type": "execute_result"
    }
   ],
   "source": [
    "#HOW TO WRITE THE FACTORIAL WITH LAMBDA\n",
    "\n",
    "from functools import reduce\n",
    "numbers = [2, 3, 4, 5]\n",
    "reduce (lambda res, x: res*x, numbers, 1)"
   ]
  },
  {
   "cell_type": "code",
   "execution_count": null,
   "metadata": {},
   "outputs": [],
   "source": [
    "#INNER FUNCTIONS\n",
    "\n",
    "def outterf(a,b):\n",
    "    def innerf(n):\n",
    "        return n*b\n",
    "    return [innerf(i) for i in a]\n",
    "\n",
    "outterf(range(1, 11), 5)"
   ]
  },
  {
   "cell_type": "markdown",
   "metadata": {},
   "source": [
    "Google doesn`t recommend to use global variables"
   ]
  },
  {
   "cell_type": "code",
   "execution_count": null,
   "metadata": {},
   "outputs": [],
   "source": []
  }
 ],
 "metadata": {
  "kernelspec": {
   "display_name": "Python 3",
   "language": "python",
   "name": "python3"
  },
  "language_info": {
   "codemirror_mode": {
    "name": "ipython",
    "version": 3
   },
   "file_extension": ".py",
   "mimetype": "text/x-python",
   "name": "python",
   "nbconvert_exporter": "python",
   "pygments_lexer": "ipython3",
   "version": "3.6.4"
  }
 },
 "nbformat": 4,
 "nbformat_minor": 2
}
